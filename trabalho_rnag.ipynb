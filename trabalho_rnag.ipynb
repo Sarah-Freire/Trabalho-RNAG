{
 "cells": [
  {
   "cell_type": "markdown",
   "id": "053d2bee-9a8a-4a21-b312-6963ca3286d0",
   "metadata": {},
   "source": [
    "<img src= \"A2.png\">"
   ]
  },
  {
   "cell_type": "markdown",
   "id": "a8d133d4-621d-436c-8e4a-a211edb48c8c",
   "metadata": {},
   "source": [
    "## Trabalho Final da Disciplina \"Redes Neurais e Algoritmos Genéticos\": Construção de dietas usando a inteligência artificial"
   ]
  },
  {
   "cell_type": "markdown",
   "id": "bc8523a7-a2a6-4fbd-acd8-4f1ac5d0c5a0",
   "metadata": {},
   "source": [
    "### Contextualização:"
   ]
  },
  {
   "cell_type": "markdown",
   "id": "7c3f816d-91d8-444b-a5a7-dbf38b9fd847",
   "metadata": {},
   "source": [
    "Durante esse trabalho temos como objetivo principal por em prática, propondo uma solução para um problema cientificamente relevante, tudo o conhecimento adquirido ao longo da disciplina de Redes Neurais e Algoritmos Géneticos ministrada pelo Profº Drº Daniel Cassar no 3º semestre do Bacharelado em Ciência e Tecnologia da Ilum Escola de Ciência, faculdade do Centro Nacional de Pesquisa em Energia e Materiais(CNPEM), centro esse que abriga também o Sirius, maior e mais avançado acelerador de partículas da América Latina e do Hemisfério Sul."
   ]
  },
  {
   "cell_type": "markdown",
   "id": "991f92b4-234a-4d2c-8357-bb00f6a632f8",
   "metadata": {},
   "source": [
    "### Introdução:"
   ]
  },
  {
   "cell_type": "markdown",
   "id": "ee41933f-1c79-4cf3-be13-995b46bd2d90",
   "metadata": {},
   "source": [
    "O problema sobre o qual nos debruçamos trata-se de um problema de otimização, onde queremos que o nosso paciente tenha uma dieta com a melhor nutrição(a ser avaliada pela densidade nutricional dos alimentos) para um determinado limite calórico(de acordo com o objetivo dele). Dessa forma, podemos perceber que se trata de um problema de maximização com restrição e decidimos, baseados nos conhecimentos que adquirimos ao longo do semestre utilizar como algoritmo base o algoritmos genético que implementa uma solução para o problema da mochila com restrição; cujo exemplo de implementação e uso pode ser visto em  - [experimento A.07 - aplicando restricoes.ipynb](https://github.com/Sarah-Freire/RNAG/blob/main/AlgoritmosGeneticos/experimento%20A.07%20-%20aplicando%20restricoes.ipynb)."
   ]
  },
  {
   "cell_type": "markdown",
   "id": "9f0973d8-a6dc-4d94-b37e-41f2f2be05a0",
   "metadata": {},
   "source": [
    "### Importações:"
   ]
  },
  {
   "cell_type": "code",
   "execution_count": 1,
   "id": "c03b2a63-4b47-4141-b10d-62e81c7bc969",
   "metadata": {},
   "outputs": [],
   "source": [
    "#Importações\n",
    "import numpy as np\n",
    "import pandas as pd\n",
    "import matplotlib.pyplot as plt\n",
    "\n",
    "\n",
    "import random\n",
    "\n",
    "from funcoes import computa_cesta\n",
    "from funcoes import funcao_objetivo_pop_dieta\n",
    "from funcoes import populacao_cesta_alimento as cria_populacao_inicial\n",
    "from funcoes import selecao_roleta_max as funcao_selecao\n",
    "from funcoes import cruzamento_ponto_simples as funcao_cruzamento\n",
    "from funcoes import mutacao_dieta as funcao_mutacao"
   ]
  },
  {
   "cell_type": "markdown",
   "id": "a2c0bdec",
   "metadata": {},
   "source": [
    "### Obtenção dos Dados do Usuário e do seu Objetivo"
   ]
  },
  {
   "cell_type": "markdown",
   "id": "63cfc647-96f1-4099-bce9-61f0ac469c9e",
   "metadata": {},
   "source": [
    "Para começarmos, então, faz-se necessários que conversemos com nosso usuário para a obtenção de seus dados e o estabelecimento dos seus objetivos de modo a proporcionarmos uma resposta mais personalizada e otimizada."
   ]
  },
  {
   "cell_type": "code",
   "execution_count": 2,
   "id": "aa8e5637",
   "metadata": {},
   "outputs": [
    {
     "name": "stdout",
     "output_type": "stream",
     "text": [
      "Qual é o seu nome?\n"
     ]
    },
    {
     "name": "stdin",
     "output_type": "stream",
     "text": [
      " vitor\n"
     ]
    },
    {
     "name": "stdout",
     "output_type": "stream",
     "text": [
      "Qual a sua idade?(em anos)\n"
     ]
    },
    {
     "name": "stdin",
     "output_type": "stream",
     "text": [
      " 19\n"
     ]
    },
    {
     "name": "stdout",
     "output_type": "stream",
     "text": [
      "Qual o seu peso?(em quilogramas)\n"
     ]
    },
    {
     "name": "stdin",
     "output_type": "stream",
     "text": [
      " 75.5\n"
     ]
    },
    {
     "name": "stdout",
     "output_type": "stream",
     "text": [
      "Qual é o seu sexo?\n"
     ]
    },
    {
     "name": "stdin",
     "output_type": "stream",
     "text": [
      " masculino\n"
     ]
    },
    {
     "name": "stdout",
     "output_type": "stream",
     "text": [
      "Qual é a sua altura?(em metros)\n"
     ]
    },
    {
     "name": "stdin",
     "output_type": "stream",
     "text": [
      " 1.83\n"
     ]
    },
    {
     "name": "stdout",
     "output_type": "stream",
     "text": [
      "Qual é o seu nível de atividade física?\n",
      " sedentário: pouco ou nenhum exercício físico\n",
      " pouco ativo:leve 1-3/semana\n",
      " moderadamente ativo: moderado 3-5/semana\n",
      " muito ativo: pesado 7-7 dias/semana\n",
      " extremamente ativo: pesado/intenso ou treino 2xdia\n"
     ]
    },
    {
     "name": "stdin",
     "output_type": "stream",
     "text": [
      " moderadamente ativo\n"
     ]
    },
    {
     "name": "stdout",
     "output_type": "stream",
     "text": [
      "Qual é o seu objetivo com a dieta?\n",
      " manter massa\n",
      " perder massa\n",
      " ganhar massa\n"
     ]
    },
    {
     "name": "stdin",
     "output_type": "stream",
     "text": [
      " ganhar mass\n"
     ]
    },
    {
     "name": "stdout",
     "output_type": "stream",
     "text": [
      "['Digite uma resposta válida']\n"
     ]
    },
    {
     "name": "stdin",
     "output_type": "stream",
     "text": [
      " ganhar massa\n"
     ]
    },
    {
     "name": "stdout",
     "output_type": "stream",
     "text": [
      "['vitor', 19.0, 75.5, 'masculino', 1.83, 'moderadamente ativo', 'ganhar massa']\n"
     ]
    }
   ],
   "source": [
    "dados = []\n",
    "def informacoes_da_pessoa():\n",
    "\n",
    "    advertencia = [\"Digite uma resposta válida\"]\n",
    "    \n",
    "\n",
    "    print(\"Qual é o seu nome?\")\n",
    "    nome = input()\n",
    "    dados.append(nome)\n",
    "\n",
    "    print(\"Qual a sua idade?(em anos)\")\n",
    "    idade_str = input()\n",
    "    idade = float(idade_str)\n",
    "    if idade in range(18,120):\n",
    "        dados.append(idade) \n",
    "    else:\n",
    "        print(advertencia)\n",
    "        idade = input()\n",
    "\n",
    "    print(\"Qual o seu peso?(em quilogramas)\")\n",
    "    peso_str = input()\n",
    "    peso = float(peso_str)\n",
    "    if peso == round(peso, 2):\n",
    "        dados.append(peso) \n",
    "    else:\n",
    "        print(advertencia)\n",
    "        peso = input()\n",
    "\n",
    "    print(\"Qual é o seu sexo?\")\n",
    "    sexo = input()\n",
    "    while sexo.lower() not in [\"feminino\",\"masculino\"]:\n",
    "        print(advertencia)\n",
    "        sexo = input()\n",
    "    dados.append(sexo)\n",
    "\n",
    "    print(\"Qual é a sua altura?(em metros)\")\n",
    "    altura_str = input()\n",
    "    altura = float(altura_str)\n",
    "    if altura == round(altura, 2):\n",
    "        dados.append(altura) \n",
    "    else:\n",
    "        print(advertencia)\n",
    "        altura = input()\n",
    "\n",
    "    print(\"Qual é o seu nível de atividade física?\\n sedentário: pouco ou nenhum exercício físico\\n pouco ativo:leve 1-3/semana\\n moderadamente ativo: moderado 3-5/semana\\n muito ativo: pesado 7-7 dias/semana\\n extremamente ativo: pesado/intenso ou treino 2xdia\")\n",
    "    atividade = input()\n",
    "    while atividade.lower() not in [\"sedentário\", \"pouco ativo\", \"moderadamente ativo\", \"muito ativo\", \"extremamente ativo\"]:\n",
    "        print(advertencia)\n",
    "        atividade = input()\n",
    "    dados.append(atividade)\n",
    "    \n",
    "    print(\"Qual é o seu objetivo com a dieta?\\n manter massa\\n perder massa\\n ganhar massa\")\n",
    "    objetivo = input()\n",
    "    while objetivo.lower() not in [\"manter massa\", \"perder massa\", \"ganhar massa\"]:\n",
    "        print(advertencia)\n",
    "        objetivo = input()\n",
    "    dados.append(objetivo)\n",
    "    \n",
    "    return dados\n",
    "\n",
    "print(informacoes_da_pessoa())"
   ]
  },
  {
   "cell_type": "markdown",
   "id": "bfe93dbb-0c41-46a4-b42e-fe8bdbf33af1",
   "metadata": {
    "tags": []
   },
   "source": [
    "#### A partir disso como determinaremos a quantidade de calorias ideais?\n",
    "\n",
    "A equação de Harris-Benedict é uma fórmula que utiliza a altura, peso, idade e sexo de determinado indivíduo para calcular a sua taxa metabólica basal(TMB)\n",
    "\n",
    "**1º Passo:**\n",
    "Determinar a taxa metabólica basal (TMB)\n",
    "\n",
    "Homens: TMB = 66 + (13.7 x peso em quilogramas) + (5 x altura em centímetros) – (6.8 x idade em anos)\n",
    "\n",
    "Mulheres: TMB = 65.5 + (9.6 X peso em quilogramas) + (1.8 X altura em centímetros) – (4.7 x idade em anos).\n",
    "\n",
    "**2º Passo:**\n",
    "Multiplicar o valor da TMB pelo fator de atividade física adequado\n",
    "\n",
    "- Sedentário – pouco ou nenhum exercício (TMB x 1.2)\n",
    "\n",
    "- Pouco ativo – exercício/esporte leve 1-3 dias/semana (TMB x 1.375)\n",
    "\n",
    "- Moderadamente ativo – exercício/esporte moderado 3-5 dias/semana (TMB x 1.55)\n",
    "\n",
    "- Muito ativo – exercício/esporte pesado 6-7 dias/semana (TMB x 1.725)\n",
    "\n",
    "- Extremamente ativo – exercício/esporte muito pesado e trabalho físico intenso diariamente ou treino de 2x ao dia (TMB x 1.9)\n",
    "\n",
    "Este cálculo vai te dar um valor estimado das necessidades energéticas diárias de uma pessoa. Contudo, não se esqueça que se trata apenas de uma estimativa e que deve ser usada como um guia e não como uma regra."
   ]
  },
  {
   "cell_type": "code",
   "execution_count": 8,
   "id": "d2591f1a-c516-4864-9636-134da19e7c28",
   "metadata": {},
   "outputs": [],
   "source": [
    "#armazenando dados nos varávies\n",
    "altura = dados[4]\n",
    "peso = dados[2]\n",
    "idade = dados[1]\n",
    "sexo = dados[3]\n",
    "atividade = dados[5]\n",
    "objetivo = dados[6]"
   ]
  },
  {
   "cell_type": "code",
   "execution_count": 9,
   "id": "9475b24d",
   "metadata": {},
   "outputs": [
    {
     "name": "stdout",
     "output_type": "stream",
     "text": [
      "2020.24\n"
     ]
    }
   ],
   "source": [
    "def tmb_func(altura, peso, idade, sexo, atividade,objetivo):\n",
    "    if sexo == \"feminino\":\n",
    "        tmb_1 = 655.1 + (9.6 * peso) + (1.8 * altura) - (4.7 * idade)\n",
    "    else:\n",
    "        tmb_1= 66.5 + (13.7 * peso) + (5 * altura) - (6.8 * idade)\n",
    "        \n",
    "    if atividade == \"sedentário\":\n",
    "        tmb = tmb_1 * 1.2\n",
    "    elif atividade == \"pouco ativo\":\n",
    "        tmb = tmb_1 * 1.375\n",
    "    elif atividade == \"moderadamente ativo\":\n",
    "        tmb = tmb_1 * 1.55\n",
    "    elif atividade == \"muito ativo\":\n",
    "        tmb = tmb_1 * 1.725\n",
    "    else:\n",
    "        tmb = tmb_1 * 1.9\n",
    "        \n",
    "    if objetivo.lower() == \"manter massa\":\n",
    "        \n",
    "        tmb_final = tmb\n",
    "        \n",
    "    elif objetivo.lower() == \"perder massa\":\n",
    "        \n",
    "        tmb_final = tmb - 500\n",
    "        \n",
    "    else:\n",
    "        \n",
    "        tmb_final = tmb + 500\n",
    "        \n",
    "    return tmb_final\n",
    "\n",
    "print(tmb_func(altura,peso,idade,sexo, atividade, objetivo))"
   ]
  },
  {
   "cell_type": "markdown",
   "id": "c447cba8-0aaa-4092-abdb-557ecc50d2b7",
   "metadata": {},
   "source": [
    "#### Agora que temos os dados necessários e a nossa função definida, podemos, enfim, começar a criar o nosso código do nutrella"
   ]
  },
  {
   "cell_type": "code",
   "execution_count": 10,
   "id": "df691b0b-7218-4d45-b640-438328ee1a82",
   "metadata": {},
   "outputs": [],
   "source": [
    "### CONSTANTES\n",
    "\n",
    "# relacionadas à busca\n",
    "TAMANHO_POP = 20\n",
    "NUM_GERACOES = 100\n",
    "CHANCE_CRUZAMENTO = 0.5\n",
    "CHANCE_MUTACAO = 0.1\n",
    "\n",
    "# relacionadas ao problema a ser resolvido\n",
    "# LIMITE_DE_CALORIAS = tmb_func(altura,peso,idade,sexo, atividade, objetivo)\n",
    "LIMITE_DE_CALORIAS = tmb_func(altura,peso,idade,sexo, atividade, objetivo)\n",
    "\n",
    "\n",
    "# O supermercado\n",
    "\n",
    "# Leia o arquivo Excel como um DataFrame\n",
    "df_alimentos = pd.read_excel(\"Alimentos.xlsx\")\n",
    "\n",
    "#Agora precisamos transformar esses df em dicionários(com orientação por linhas);\n",
    "dic_alimentos = df_alimentos.to_dict(orient='records')\n",
    "\n",
    "df_alimentosC = pd.read_excel(\"Alimentos - Calorias.xlsx\")\n",
    "dic_alimentosC = df_alimentosC.to_dict(orient='records')\n",
    "\n",
    "SUPERMERCADO = {}\n",
    "for item in dic_alimentosC:\n",
    "    alimento = item['Alimentos']\n",
    "    calorias_dic = item['Energia(Kcal)']\n",
    "    Densidade_nutricional = item['Densidade nutricional']\n",
    "    SUPERMERCADO[alimento] = {'calorias': calorias_dic, 'Densidade nutricional': Densidade_nutricional}\n",
    "    \n",
    "NUM_ALIMENTOS = len(SUPERMERCADO)\n",
    "ORDEM_DOS_NOMES = list(sorted(SUPERMERCADO.keys()))"
   ]
  },
  {
   "cell_type": "code",
   "execution_count": 11,
   "id": "9bb478ff-50ba-47f8-84c4-8fd53f519c57",
   "metadata": {},
   "outputs": [
    {
     "name": "stdout",
     "output_type": "stream",
     "text": [
      "2020.24\n"
     ]
    }
   ],
   "source": [
    "# Funções locais\n",
    "print(LIMITE_DE_CALORIAS)\n",
    "def funcao_objetivo_pop(populacao):\n",
    "    return funcao_objetivo_pop_dieta(populacao, SUPERMERCADO, LIMITE_DE_CALORIAS, ORDEM_DOS_NOMES)"
   ]
  },
  {
   "cell_type": "code",
   "execution_count": 7,
   "id": "71a0e03a-6b8e-49d8-8c24-cb4773c9eeb5",
   "metadata": {},
   "outputs": [
    {
     "name": "stdout",
     "output_type": "stream",
     "text": [
      "Maior densidade nutricional: 147.55416302294378 | Calorias: 1507.5300000000002\n",
      "Maior densidade nutricional: 150.9235591091491 | Calorias: 1438.56\n",
      "Maior densidade nutricional: 153.49372952029802 | Calorias: 2019.0600000000002\n",
      "Maior densidade nutricional: 161.76768866380496 | Calorias: 1685.56\n",
      "Maior densidade nutricional: 163.48699439851234 | Calorias: 1879.4499999999998\n",
      "Maior densidade nutricional: 177.76525526807757 | Calorias: 1925.4499999999998\n",
      "Maior densidade nutricional: 178.92382363559813 | Calorias: 1833.37\n",
      "Maior densidade nutricional: 189.22652641011368 | Calorias: 1928.0900000000001\n",
      "Maior densidade nutricional: 193.07170930941328 | Calorias: 1920.09\n",
      "Maior densidade nutricional: 200.54852492284013 | Calorias: 1789.0900000000001\n",
      "Maior densidade nutricional: 200.6365056924256 | Calorias: 1996.3899999999999\n",
      "Maior densidade nutricional: 213.9793388763285 | Calorias: 1875.0900000000001\n",
      "Maior densidade nutricional: 214.24852492284012 | Calorias: 1807.0900000000001\n",
      "Maior densidade nutricional: 215.0587813330965 | Calorias: 1828.0900000000001\n",
      "Maior densidade nutricional: 222.95190996627585 | Calorias: 1895.18\n",
      "Maior densidade nutricional: 226.05390466967557 | Calorias: 1965.0900000000001\n",
      "Maior densidade nutricional: 228.9510249228401 | Calorias: 1827.0900000000001\n",
      "Maior densidade nutricional: 230.1874832561734 | Calorias: 1857.0900000000001\n",
      "\n",
      "\n",
      "Oi, vitor aqui estão os itens que você deve pegar:\n",
      "+ Abacaxi\n",
      "+ Abóbora\n",
      "+ Ameixa\n",
      "+ Arroz integral\n",
      "+ Banana (ouro, prata, d´água, da terra, etc.)\n",
      "+ Bebida achocolatada\n",
      "+ Berinjela\n",
      "+ Beterraba\n",
      "+ Brigadeiro\n",
      "+ Cenoura amarela (batata-baroa)\n",
      "+ Contrafilé\n",
      "+ Feijão (preto, mulatinho, roxo, rosinha, etc.)\n",
      "+ Leite de vaca integral\n",
      "+ Limão (comum, galego, etc.)\n",
      "+ Mexerica\n",
      "+ Ovo de galinha\n",
      "+ Pão de forma industrializado\n",
      "+ Tangerina\n",
      "+ Vagem\n",
      "\n",
      "Com isso, sua mochila terá o valor nutricional de 230.0 e quantidade calóricade de 1857.0 kcal.\n"
     ]
    }
   ],
   "source": [
    "# Busca por algoritmo genético\n",
    "populacao = cria_populacao_inicial(TAMANHO_POP, NUM_ALIMENTOS)\n",
    "\n",
    "# variaveis para o hall da fama\n",
    "melhor_fitness_ja_visto = -float(\"inf\") # levando em consideração que é um problema de maximização\n",
    "melhor_individuo_ja_visto = [0] * NUM_ALIMENTOS # solução trivial para o problema\n",
    "\n",
    "for n in range(NUM_GERACOES):\n",
    "\n",
    "    # Seleção\n",
    "    fitness = funcao_objetivo_pop(populacao)\n",
    "    populacao = funcao_selecao(populacao, fitness)\n",
    "\n",
    "    # Cruzamento\n",
    "    pais = populacao[0::2]\n",
    "    maes = populacao[1::2]\n",
    "\n",
    "    contador = 0\n",
    "\n",
    "    for pai, mae in zip(pais, maes):\n",
    "        if random.random() <= CHANCE_CRUZAMENTO:\n",
    "            filho1, filho2 = funcao_cruzamento(pai, mae)\n",
    "            populacao[contador] = filho1\n",
    "            populacao[contador + 1] = filho2\n",
    "\n",
    "        contador = contador + 2\n",
    "\n",
    "    # Mutação\n",
    "    for n in range(len(populacao)):\n",
    "        if random.random() <= CHANCE_MUTACAO:\n",
    "            individuo = populacao[n]\n",
    "            populacao[n] = funcao_mutacao(individuo)\n",
    "\n",
    "    # melhor individuo já visto até agora (hall da fama)\n",
    "    fitness = funcao_objetivo_pop(populacao)\n",
    "    maior_fitness = max(fitness)\n",
    "    posicao = fitness.index(maior_fitness)\n",
    "    individuo = populacao[posicao].copy()\n",
    "    densidade_nutri_alimento, calorias = computa_cesta(individuo, SUPERMERCADO, ORDEM_DOS_NOMES)\n",
    "    if maior_fitness > melhor_fitness_ja_visto : # não mostrar coisas q n resolvem o problema\n",
    "        melhor_fitness_ja_visto = maior_fitness\n",
    "        melhor_individuo_ja_visto = individuo\n",
    "        print(f\"Maior densidade nutricional: {densidade_nutri_alimento} | Calorias: {calorias}\")\n",
    "\n",
    "#Resultado\n",
    "print()\n",
    "print()\n",
    "print(\"Oi,\",dados[0], \"aqui estão os itens que você deve pegar:\")\n",
    "for pega_ou_nao, item in zip(melhor_individuo_ja_visto, ORDEM_DOS_NOMES):\n",
    "    if pega_ou_nao == 1:\n",
    "        print(\"+\", item)\n",
    "print()\n",
    "valor_total, peso_total = computa_cesta(\n",
    "    melhor_individuo_ja_visto, SUPERMERCADO, ORDEM_DOS_NOMES\n",
    ")\n",
    "valor_total_arredondado = round(valor_total, 0)\n",
    "peso_total_arredondado = round(peso_total, 0)\n",
    "print(\n",
    "    f\"Com isso, sua mochila terá o valor nutricional de {valor_total_arredondado}\"\n",
    "    f\" e quantidade calóricade de {peso_total_arredondado} kcal.\"\n",
    ")"
   ]
  },
  {
   "cell_type": "markdown",
   "id": "b7e40763-7aca-416d-82b5-b5600a90396f",
   "metadata": {},
   "source": [
    "### "
   ]
  },
  {
   "cell_type": "markdown",
   "id": "4ca91478-ba0c-4112-9936-6ca42a70a359",
   "metadata": {},
   "source": [
    "### Referências:\n",
    "\n",
    "[1] https://www.omnicalculator.com/health/bmr-harris-benedict-equation\n",
    "\n",
    "[2] https://en.wikipedia.org/wiki/Harris%E2%80%93Benedict_equation\n",
    "\n",
    "[3] https://www.ncbi.nlm.nih.gov/pmc/articles/PMC5074671/\n",
    "\n",
    "[4] https://www.sanarmed.com/equacao-de-harris-benedict-colunistas"
   ]
  }
 ],
 "metadata": {
  "kernelspec": {
   "display_name": "Python 3 (ipykernel)",
   "language": "python",
   "name": "python3"
  },
  "language_info": {
   "codemirror_mode": {
    "name": "ipython",
    "version": 3
   },
   "file_extension": ".py",
   "mimetype": "text/x-python",
   "name": "python",
   "nbconvert_exporter": "python",
   "pygments_lexer": "ipython3",
   "version": "3.9.13"
  }
 },
 "nbformat": 4,
 "nbformat_minor": 5
}
